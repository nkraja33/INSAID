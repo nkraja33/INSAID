{
 "cells": [
  {
   "cell_type": "markdown",
   "metadata": {},
   "source": [
    "# Summer Olympics 1896-2012\n",
    "\n",
    "<img src=\"https://raw.githubusercontent.com/nkraja33/EDA/master/summer_olympics_logo.jpg\" width=\"580\" height=\"720\" align='center'><br/>"
   ]
  },
  {
   "cell_type": "markdown",
   "metadata": {},
   "source": [
    "## Table of Contents\n",
    "\n",
    "1. [Problem Statement](#1)<br>\n",
    "2. [Import Packages](#2)<br>\n",
    "3. [Load Data Set](#3)<br>\n",
    "4. [Overview of Data using pandas profiling](#4)<br>\n",
    "5. [Data Wrangling](#5)<br>\n",
    "  - 5.1 [Shape of the Data set](#5.1)<br>\n",
    "  - 5.2 [Data Types](#5.2)<br>\n",
    "  - 5.3 [Finding Null Values](#5.3)<br>\n",
    "  - 5.4 [Finding duplicate values and fix them](#5.4)<br>\n",
    "  - 5.5 [Shape of the data after fixing the errors](#5.5)<br>\n",
    "5. [Exploratory Data Analysis (EDA)](#6)<br>\n",
    "  - 6.1  [Overall Percentage of Medals](#6.1)<br>\n",
    "  - 6.2  [Number of Sports per Year](#6.2)<br>\n",
    "  - 6.3  [Cities Hosted Game More than Once](#6.3)<br>\n",
    "  - 6.4  [Top 10 Medal count by countries](#6.4)<br>\n",
    "  - 6.5  [Top 5 Countries by each Medals](#6.5)<br>\n",
    "  - 6.6  [Medal Counts by Gender](#6.6)<br>\n",
    "  - 6.7  [Top 5 Medal winners by Gender](#6.7)<br>\n",
    "  - 6.8  [Top 5 Disciplines by Gender](#6.8)<br>\n",
    "7. [Conclusion](#7)<br>"
   ]
  },
  {
   "cell_type": "markdown",
   "metadata": {
    "slideshow": {
     "slide_type": "-"
    }
   },
   "source": [
    "<a id=1></a>\n",
    "## 1. Problem Statement\n",
    "\n",
    "The __Summer Olympic Games__  or the Games of the Olympiad, first held in 1896, is a major international multi-sport event held once every four years.\n",
    "\n",
    "We will find out __which country won more medals__, which __sport has more medals__, who were __most awarded Athletes__ in this details analysis.\n",
    "\n",
    "This Data set has data of summer olympics held between 1896 to 2012. It has the details of year, hosted city, sport and it's discipline, Athelete, Country, Gender, Event and Medal.\n",
    "\n",
    "From these data we will try to find the below details:\n",
    "\n",
    "- Overall Contribution of medals throught out the games\n",
    "- Sport Counts by Year\n",
    "- Which are all the cities that were hosted Olympic Games more than once.\n",
    "- Medal counts by countries and plot the top 10 countries.\n",
    "- Countries list by each medal counts and plot top 5 of them\n",
    "- Medal counts by Gender\n",
    "- List of Atheltes who has more medals and plot Top 5\n",
    "- List of Sport Disciplines which won more medals by Gender and plot Top 5"
   ]
  },
  {
   "cell_type": "markdown",
   "metadata": {},
   "source": [
    "<a id=2></a>\n",
    "## 2. Import  Packages\n",
    "\n",
    " Below cell has all the required packages and it is imported."
   ]
  },
  {
   "cell_type": "code",
   "execution_count": 1,
   "metadata": {},
   "outputs": [],
   "source": [
    "import pandas as pd\n",
    "import matplotlib.pyplot as plt\n",
    "import seaborn as sns\n",
    "import numpy as np\n",
    "import pandas_profiling\n",
    "%matplotlib inline\n",
    "sns.set(style='whitegrid')"
   ]
  },
  {
   "cell_type": "markdown",
   "metadata": {},
   "source": [
    "# <a id=3></a>\n",
    "## 3. Load Data Set\n",
    "\n",
    "  Here we use Summer Olympic Data set for our EDA.\n",
    "  \n",
    "  Now Data has been loaded using pandas function and the first 5 rows were displayed"
   ]
  },
  {
   "cell_type": "code",
   "execution_count": 2,
   "metadata": {},
   "outputs": [
    {
     "data": {
      "text/html": [
       "<div>\n",
       "<style scoped>\n",
       "    .dataframe tbody tr th:only-of-type {\n",
       "        vertical-align: middle;\n",
       "    }\n",
       "\n",
       "    .dataframe tbody tr th {\n",
       "        vertical-align: top;\n",
       "    }\n",
       "\n",
       "    .dataframe thead th {\n",
       "        text-align: right;\n",
       "    }\n",
       "</style>\n",
       "<table border=\"1\" class=\"dataframe\">\n",
       "  <thead>\n",
       "    <tr style=\"text-align: right;\">\n",
       "      <th></th>\n",
       "      <th>Year</th>\n",
       "      <th>City</th>\n",
       "      <th>Sport</th>\n",
       "      <th>Discipline</th>\n",
       "      <th>Athlete</th>\n",
       "      <th>Country</th>\n",
       "      <th>Gender</th>\n",
       "      <th>Event</th>\n",
       "      <th>Medal</th>\n",
       "    </tr>\n",
       "  </thead>\n",
       "  <tbody>\n",
       "    <tr>\n",
       "      <th>31160</th>\n",
       "      <td>2012</td>\n",
       "      <td>London</td>\n",
       "      <td>Wrestling</td>\n",
       "      <td>Wrestling Freestyle</td>\n",
       "      <td>JANIKOWSKI, Damian</td>\n",
       "      <td>POL</td>\n",
       "      <td>Men</td>\n",
       "      <td>Wg 84 KG</td>\n",
       "      <td>Bronze</td>\n",
       "    </tr>\n",
       "    <tr>\n",
       "      <th>31161</th>\n",
       "      <td>2012</td>\n",
       "      <td>London</td>\n",
       "      <td>Wrestling</td>\n",
       "      <td>Wrestling Freestyle</td>\n",
       "      <td>REZAEI, Ghasem Gholamreza</td>\n",
       "      <td>IRI</td>\n",
       "      <td>Men</td>\n",
       "      <td>Wg 96 KG</td>\n",
       "      <td>Gold</td>\n",
       "    </tr>\n",
       "    <tr>\n",
       "      <th>31162</th>\n",
       "      <td>2012</td>\n",
       "      <td>London</td>\n",
       "      <td>Wrestling</td>\n",
       "      <td>Wrestling Freestyle</td>\n",
       "      <td>TOTROV, Rustam</td>\n",
       "      <td>RUS</td>\n",
       "      <td>Men</td>\n",
       "      <td>Wg 96 KG</td>\n",
       "      <td>Silver</td>\n",
       "    </tr>\n",
       "    <tr>\n",
       "      <th>31163</th>\n",
       "      <td>2012</td>\n",
       "      <td>London</td>\n",
       "      <td>Wrestling</td>\n",
       "      <td>Wrestling Freestyle</td>\n",
       "      <td>ALEKSANYAN, Artur</td>\n",
       "      <td>ARM</td>\n",
       "      <td>Men</td>\n",
       "      <td>Wg 96 KG</td>\n",
       "      <td>Bronze</td>\n",
       "    </tr>\n",
       "    <tr>\n",
       "      <th>31164</th>\n",
       "      <td>2012</td>\n",
       "      <td>London</td>\n",
       "      <td>Wrestling</td>\n",
       "      <td>Wrestling Freestyle</td>\n",
       "      <td>LIDBERG, Jimmy</td>\n",
       "      <td>SWE</td>\n",
       "      <td>Men</td>\n",
       "      <td>Wg 96 KG</td>\n",
       "      <td>Bronze</td>\n",
       "    </tr>\n",
       "  </tbody>\n",
       "</table>\n",
       "</div>"
      ],
      "text/plain": [
       "       Year    City      Sport           Discipline  \\\n",
       "31160  2012  London  Wrestling  Wrestling Freestyle   \n",
       "31161  2012  London  Wrestling  Wrestling Freestyle   \n",
       "31162  2012  London  Wrestling  Wrestling Freestyle   \n",
       "31163  2012  London  Wrestling  Wrestling Freestyle   \n",
       "31164  2012  London  Wrestling  Wrestling Freestyle   \n",
       "\n",
       "                         Athlete Country Gender     Event   Medal  \n",
       "31160         JANIKOWSKI, Damian     POL    Men  Wg 84 KG  Bronze  \n",
       "31161  REZAEI, Ghasem Gholamreza     IRI    Men  Wg 96 KG    Gold  \n",
       "31162             TOTROV, Rustam     RUS    Men  Wg 96 KG  Silver  \n",
       "31163          ALEKSANYAN, Artur     ARM    Men  Wg 96 KG  Bronze  \n",
       "31164             LIDBERG, Jimmy     SWE    Men  Wg 96 KG  Bronze  "
      ]
     },
     "execution_count": 2,
     "metadata": {},
     "output_type": "execute_result"
    }
   ],
   "source": [
    "data=pd.read_csv(\"summer_olympics.csv\")\n",
    "data.tail()"
   ]
  },
  {
   "cell_type": "markdown",
   "metadata": {},
   "source": [
    "<a id=4></a>\n",
    "## 4. Overview of Data using pandas profiling\n",
    "\n",
    "Using pandas profiling function we can get a good overview about the data like missing fields, type of data/coulmuns, correlations..etc.. Output will be saved as html file and we can view it in a browser."
   ]
  },
  {
   "cell_type": "code",
   "execution_count": null,
   "metadata": {},
   "outputs": [],
   "source": [
    "profile=data.profile_report(title='Pandas Profiling Report')\n",
    "profile.to_file(output_file=\"pre_output.html\")"
   ]
  },
  {
   "cell_type": "markdown",
   "metadata": {},
   "source": [
    "__Below are the short overview of the data, which is generated using pandas profiling.___\n",
    "\n",
    "\n",
    "\n",
    "\n",
    "| Dataset info                     | Variables types                                                                                |\n",
    "| -------------------------------|:------------------------------------------------------------------------------------------:| \n",
    "| Number of variables\t9                        | Numeric\t1                                                                    | \n",
    "| Number of observations\t31165                           | Categorical\t8                                                                           | \n",
    "| Missing cells\t4 (< 0.1%)                     | Boolean\t0                                                          | \n",
    "| Duplicate rows\t2 (< 0.1%)                 | Date\t0                                                              |\n",
    "| Total size in memory\t2.1 MiB                | URL\t0                                                              |\n",
    "| Average record size in memory\t72.0 B         | Text (Unique)\t0                                                      |\n",
    "|                                              | Rejected\t0                                                          |\n",
    "|                                              | Unsupported\t0                                                      |\n",
    "\n",
    "\n",
    "\n",
    "Above is the just the top two fields of the data, there are many foelds which will seen from generated file.\n",
    "\n",
    "In this data set we have only one Numeric column  and 8 categortical column."
   ]
  },
  {
   "cell_type": "markdown",
   "metadata": {},
   "source": [
    "<a id=5></a>\n",
    "## 5. Data Wrangling\n",
    "\n",
    "   In this section we will understand the structure and nature of the data and fix if there is any errors before we go for EDA"
   ]
  },
  {
   "cell_type": "markdown",
   "metadata": {},
   "source": [
    "<a id=5.1></a>\n",
    "### 5.1 Shape of the Data set\n",
    "\n",
    "   Below is the __Rows X  Columns__ counts of the given data set"
   ]
  },
  {
   "cell_type": "code",
   "execution_count": null,
   "metadata": {},
   "outputs": [],
   "source": [
    "data.shape"
   ]
  },
  {
   "cell_type": "markdown",
   "metadata": {},
   "source": [
    "<a id=5.2></a>\n",
    "### 5.2 Data Types\n",
    "\n",
    "From the below function we will know about the type of data in each column and it's data count. In additon this command will also provides the number of rows and columns of the data and it's memory usage "
   ]
  },
  {
   "cell_type": "code",
   "execution_count": null,
   "metadata": {},
   "outputs": [],
   "source": [
    "data.info()"
   ]
  },
  {
   "cell_type": "markdown",
   "metadata": {},
   "source": [
    "<a id=5.3></a>\n",
    "### 5.3 Finding Null Values\n",
    "\n",
    "This data set has null values in 4 rows on Country Column, As we cannot do any maipulation in country field we are not going to modify the data and we will proceed as it is."
   ]
  },
  {
   "cell_type": "code",
   "execution_count": null,
   "metadata": {},
   "outputs": [],
   "source": [
    "data[data.Country.isnull()]"
   ]
  },
  {
   "cell_type": "markdown",
   "metadata": {},
   "source": [
    "<a id=5.4></a>\n",
    "### 5.4 Finding duplicate values and fix them\n",
    "\n",
    "#### In the data we can see there 2 duplciate rows."
   ]
  },
  {
   "cell_type": "code",
   "execution_count": null,
   "metadata": {},
   "outputs": [],
   "source": [
    "data[data.duplicated()]"
   ]
  },
  {
   "cell_type": "markdown",
   "metadata": {},
   "source": [
    "#### Let's remove the duplicate rows by keeping the first instance."
   ]
  },
  {
   "cell_type": "code",
   "execution_count": null,
   "metadata": {},
   "outputs": [],
   "source": [
    "data.drop_duplicates(inplace=True)"
   ]
  },
  {
   "cell_type": "markdown",
   "metadata": {},
   "source": [
    "<a id=5.5></a>\n",
    "### 5.5 Shape of the data after fixing the errors\n",
    "\n",
    "Now we can 2 duplcate rows were removed."
   ]
  },
  {
   "cell_type": "code",
   "execution_count": null,
   "metadata": {},
   "outputs": [],
   "source": [
    "data.shape"
   ]
  },
  {
   "cell_type": "markdown",
   "metadata": {},
   "source": [
    "Till Here we have fixed the known errros and we are ready to do the EDA on the data, so let's plot them in using easy plots to better understand and get some insights from the data"
   ]
  },
  {
   "cell_type": "markdown",
   "metadata": {},
   "source": [
    "<a id=6></a>\n",
    "## 6. Exploratory Data Analysis (EDA)\n",
    "\n",
    " <br><br>Here in this section we will describe the data using available plots using matplotlib and seaborn libraries. <br><br>\n",
    " \n"
   ]
  },
  {
   "cell_type": "markdown",
   "metadata": {},
   "source": [
    "<a id=6.1></a>\n",
    "### 6.1 Overall Percentage of Medals\n",
    "\n",
    "Let's see total count of each medals and plot the percentage in a pie chart."
   ]
  },
  {
   "cell_type": "code",
   "execution_count": null,
   "metadata": {},
   "outputs": [],
   "source": [
    "data.Medal.value_counts()"
   ]
  },
  {
   "cell_type": "code",
   "execution_count": null,
   "metadata": {},
   "outputs": [],
   "source": [
    "medal_count = data['Medal'].value_counts()\n",
    "percent = medal_count.apply(lambda x: (x/data.shape[0])*100)\n",
    "plt.figure(figsize=(8,8));\n",
    "plt.pie(percent, labels=percent.index, autopct='%1.2f%%', shadow=True)\n",
    "plt.title(\"Overall Percentage of Medals\", size='20');\n",
    "plt.ylabel(\"\");"
   ]
  },
  {
   "cell_type": "markdown",
   "metadata": {},
   "source": [
    "<a id=6.2></a>\n",
    "### 6.2 Number of Sports per Year\n",
    "\n",
    "Below Bar chart provides the total count of sports which were played in each year."
   ]
  },
  {
   "cell_type": "code",
   "execution_count": null,
   "metadata": {},
   "outputs": [],
   "source": [
    "sport_year =data['Year'].value_counts()\n",
    "sport_year.sort_index(inplace=True)\n",
    "height = sport_year.index\n",
    "plt.figure(figsize=(10,10));\n",
    "sport_year.plot.bar();\n",
    "plt.title(\"Number of Sports per Year\",size='20');\n",
    "plt.xlabel(\"Year\", size='15');\n",
    "plt.ylabel(\"Number of Sport Events\", size='15')"
   ]
  },
  {
   "cell_type": "code",
   "execution_count": null,
   "metadata": {},
   "outputs": [],
   "source": [
    "sport_year"
   ]
  },
  {
   "cell_type": "markdown",
   "metadata": {},
   "source": [
    "<a id=6.3></a>\n",
    "### 6.3 Cities Hosted Game More than Once\n",
    "\n",
    "Here we will see how many cities were hosted the olympic game more than once."
   ]
  },
  {
   "cell_type": "code",
   "execution_count": null,
   "metadata": {},
   "outputs": [],
   "source": [
    "city=data[['Year','City']].drop_duplicates()\n",
    "city=city[city['City'].duplicated(keep=False)]\n",
    "city_year=city.groupby(['City','Year']).count()\n",
    "city_year"
   ]
  },
  {
   "cell_type": "code",
   "execution_count": null,
   "metadata": {},
   "outputs": [],
   "source": [
    "city_count = city.City.value_counts().to_frame().reset_index()\n",
    "city_count.columns = ['City','Count']\n",
    "city_count"
   ]
  },
  {
   "cell_type": "code",
   "execution_count": null,
   "metadata": {},
   "outputs": [],
   "source": [
    "sns.barplot(x='City',y='Count',data=city_count);\n",
    "plt.title(\"Cities Hosted Game More than Once\");\n"
   ]
  },
  {
   "cell_type": "markdown",
   "metadata": {},
   "source": [
    "<a id=6.4></a>\n",
    "### 6.4 Top 10 Medal count by countries"
   ]
  },
  {
   "cell_type": "code",
   "execution_count": null,
   "metadata": {},
   "outputs": [],
   "source": [
    "country_count = data.groupby('Country').count()\n",
    "top_10_country= country_count['Medal'].nlargest(10)\n",
    "index=['USA','Soviet Union','Great Britain','France','Germany',\n",
    "          'Italy','Australia','Hungary','Swedan','Netherland']\n",
    "pos = np.arange(len(top_10_country))\n",
    "plt.figure(figsize=(8,8))\n",
    "bars = plt.barh(pos,top_10_country,align='center', color=('g','b','y'))\n",
    "plt.yticks(pos,index,size='10');\n",
    "plt.xlabel(\"Medal Count\", size='15')\n",
    "plt.ylabel(\"Country\",size='15')\n",
    "plt.title(\"Top 10 Medal count by countries\", size='20')\n",
    "for i, v in enumerate(top_10_country):\n",
    "    plt.text(v + 3, i + .50, str(v))\n",
    "top_10_country"
   ]
  },
  {
   "cell_type": "markdown",
   "metadata": {},
   "source": [
    "<a id=6.5></a>\n",
    "### 6.5 Top 5 Countries by each Medals"
   ]
  },
  {
   "cell_type": "code",
   "execution_count": null,
   "metadata": {
    "scrolled": true
   },
   "outputs": [],
   "source": [
    "medal_gold = data[data['Medal']=='Gold']\n",
    "medal_silver=data[data['Medal']=='Silver']\n",
    "medal_bronze=data[data['Medal']=='Bronze']\n",
    "top_gold = medal_gold.groupby('Country')['Medal'].count().nlargest(5).reset_index()\n",
    "top_silver=medal_silver.groupby('Country')['Medal'].count().nlargest(5).reset_index()\n",
    "top_bronze=medal_bronze.groupby('Country')['Medal'].count().nlargest(5).reset_index()"
   ]
  },
  {
   "cell_type": "markdown",
   "metadata": {},
   "source": [
    "#### Top 5 Gold Winning Countries"
   ]
  },
  {
   "cell_type": "code",
   "execution_count": null,
   "metadata": {},
   "outputs": [],
   "source": [
    "def absolute_value(val):\n",
    "    a  = np.round(val/100.*top_gold['Medal'].sum(), 0)\n",
    "    return int(a)\n",
    "label = ['USA', 'Soviet Union','Great Britain','Italy','Germany']\n",
    "ax = plt.subplots(figsize=(5, 5), subplot_kw=dict(aspect=\"equal\"))\n",
    "plt.pie(top_gold.Medal, wedgeprops=dict(width=0.5), autopct=absolute_value, \n",
    "        startangle=-40, labels=label);\n",
    "plt.title(\"Top 5 Countries with Gold\",size='15');"
   ]
  },
  {
   "cell_type": "markdown",
   "metadata": {},
   "source": [
    "#### Top 5 Silver Winning Countries"
   ]
  },
  {
   "cell_type": "code",
   "execution_count": null,
   "metadata": {},
   "outputs": [],
   "source": [
    "def absolute_value(val):\n",
    "    a  = np.round(val/100.*top_silver['Medal'].sum(), 0)\n",
    "    return int(a)\n",
    "label = ['USA', 'Soviet Union','Great Britain','France','Italy']\n",
    "ax = plt.subplots(figsize=(5, 5), subplot_kw=dict(aspect=\"equal\"))\n",
    "plt.pie(top_silver.Medal, wedgeprops=dict(width=0.5), autopct=absolute_value, \n",
    "        startangle=-40, labels=label);\n",
    "plt.title(\"Top 5 Countries with Silver\", size='15');"
   ]
  },
  {
   "cell_type": "markdown",
   "metadata": {},
   "source": [
    "#### Top 5 Bronze Winning Countries"
   ]
  },
  {
   "cell_type": "code",
   "execution_count": null,
   "metadata": {},
   "outputs": [],
   "source": [
    "def absolute_value(val):\n",
    "    a  = np.round(val/100.*top_bronze['Medal'].sum(), 0)\n",
    "    return int(a)\n",
    "label = ['USA', 'Soviet Union','Great Britain','France','Germany']\n",
    "ax = plt.subplots(figsize=(5, 5), subplot_kw=dict(aspect=\"equal\"))\n",
    "plt.pie(top_bronze.Medal, wedgeprops=dict(width=0.5), autopct=absolute_value, \n",
    "        startangle=-40, labels=label);\n",
    "plt.title(\"Top 5 Countries with Bronze\", size='15');"
   ]
  },
  {
   "cell_type": "markdown",
   "metadata": {},
   "source": [
    "<a id=6.6></a>\n",
    "### 6.6 Medal Counts by Gender"
   ]
  },
  {
   "cell_type": "code",
   "execution_count": null,
   "metadata": {},
   "outputs": [],
   "source": [
    "men=data[data['Gender']=='Men']\n",
    "medal_men=men.groupby('Medal')['Medal'].count()\n",
    "medal_men"
   ]
  },
  {
   "cell_type": "code",
   "execution_count": null,
   "metadata": {
    "scrolled": true
   },
   "outputs": [],
   "source": [
    "women=data[data['Gender']=='Women']\n",
    "medal_women=women.groupby('Medal')['Medal'].count()\n",
    "medal_women"
   ]
  },
  {
   "cell_type": "markdown",
   "metadata": {},
   "source": [
    "Above we have sepeated the data by gender and got the medal counts for each gender, now let's combine these data to plot it."
   ]
  },
  {
   "cell_type": "code",
   "execution_count": null,
   "metadata": {},
   "outputs": [],
   "source": [
    "medal_gender = pd.concat([medal_men,medal_women],axis=1)\n",
    "medal_gender.columns=['Men','Women']\n",
    "medal_gender"
   ]
  },
  {
   "cell_type": "code",
   "execution_count": null,
   "metadata": {},
   "outputs": [],
   "source": [
    "medal_gender.plot(kind='bar', figsize=(8,8));\n",
    "plt.xlabel('Medal',size='15');\n",
    "plt.ylabel('Count',size='15')\n",
    "plt.title('Gender count by Medals',size='25');"
   ]
  },
  {
   "cell_type": "code",
   "execution_count": null,
   "metadata": {},
   "outputs": [],
   "source": [
    "medal_gender = medal_gender.T\n",
    "medal_gender"
   ]
  },
  {
   "cell_type": "code",
   "execution_count": null,
   "metadata": {},
   "outputs": [],
   "source": [
    "medal_gender.plot(kind='barh', figsize=(8,8));\n",
    "plt.xlabel('Medal',size='15');\n",
    "plt.ylabel('Count',size='15')\n",
    "plt.title('Medals count by Gender',size='25');"
   ]
  },
  {
   "cell_type": "markdown",
   "metadata": {},
   "source": [
    "<a id=6.7></a>\n",
    "### 6.7 Top 5 Medal winners by Gender"
   ]
  },
  {
   "cell_type": "code",
   "execution_count": null,
   "metadata": {},
   "outputs": [],
   "source": [
    "medal_gold_men = medal_gold[medal_gold['Gender']=='Men'].reset_index()\n",
    "medal_gold_women = medal_gold[medal_gold['Gender']=='Women'].reset_index()\n",
    "medal_silver_men = medal_silver[medal_silver['Gender']=='Men'].reset_index()\n",
    "medal_silver_women = medal_silver[medal_silver['Gender']=='Women'].reset_index()\n",
    "medal_bronze_men = medal_bronze[medal_bronze['Gender']=='Men'].reset_index()\n",
    "medal_bronze_women = medal_bronze[medal_bronze['Gender']=='Women'].reset_index()\n",
    "top5_athlete_gold_men = medal_gold_men.groupby(['Athlete','Country'])['Medal'].count().nlargest(5).reset_index()\n",
    "top5_athlete_gold_men['Athlete'] = top5_athlete_gold_men['Athlete'] + '(' + top5_athlete_gold_men['Country'] + ')'\n",
    "top5_athlete_gold_women = medal_gold_women.groupby(['Athlete','Country'])['Medal'].count().nlargest(5).reset_index()\n",
    "top5_athlete_gold_women['Athlete'] = top5_athlete_gold_women['Athlete'] + '(' + top5_athlete_gold_women['Country'] + ')'\n",
    "top5_athlete_silver_men = medal_silver_men.groupby(['Athlete','Country'])['Medal'].count().nlargest(5).reset_index()\n",
    "top5_athlete_silver_men['Athlete'] = top5_athlete_silver_men['Athlete'] + '(' + top5_athlete_silver_men['Country'] + ')'\n",
    "top5_athlete_silver_women = medal_silver_women.groupby(['Athlete','Country'])['Medal'].count().nlargest(5).reset_index()\n",
    "top5_athlete_silver_women['Athlete'] = top5_athlete_silver_women['Athlete'] + '(' + top5_athlete_silver_women['Country'] + ')'\n",
    "top5_athlete_bronze_men = medal_bronze_men.groupby(['Athlete','Country'])['Medal'].count().nlargest(5).reset_index()\n",
    "top5_athlete_bronze_men['Athlete'] = top5_athlete_bronze_men['Athlete'] + '(' + top5_athlete_bronze_men['Country'] + ')'\n",
    "top5_athlete_bronze_women = medal_bronze_women.groupby(['Athlete','Country'])['Medal'].count().nlargest(5).reset_index()\n",
    "top5_athlete_bronze_women['Athlete'] = top5_athlete_bronze_women['Athlete'] + '(' + top5_athlete_bronze_women['Country'] + ')'\n",
    "top5_athlete_bronze_women"
   ]
  },
  {
   "cell_type": "code",
   "execution_count": null,
   "metadata": {},
   "outputs": [],
   "source": [
    "fig, ax = plt.subplots()\n",
    "ax.hlines(top5_athlete_gold_men.Athlete, xmin=0, xmax=top5_athlete_gold_men.Medal)\n",
    "ax.plot(top5_athlete_gold_men.Medal, top5_athlete_gold_men.Athlete,\"o\")\n",
    "ax.set_xlim(0,max(top5_athlete_gold_men.Medal)+2)\n",
    "plt.title('Top 5 Gold Winners Men',size='20');"
   ]
  },
  {
   "cell_type": "code",
   "execution_count": null,
   "metadata": {},
   "outputs": [],
   "source": [
    "fig, ax = plt.subplots()\n",
    "ax.hlines(top5_athlete_silver_men.Athlete, xmin=0, xmax=top5_athlete_silver_men.Medal)\n",
    "ax.plot(top5_athlete_silver_men.Medal, top5_athlete_silver_men.Athlete, \"o\")\n",
    "ax.set_xlim(0, max(top5_athlete_silver_men.Medal)+2)\n",
    "plt.title('Top 5 Silver Winners Men',size='20');"
   ]
  },
  {
   "cell_type": "code",
   "execution_count": null,
   "metadata": {},
   "outputs": [],
   "source": [
    "fig, ax = plt.subplots()\n",
    "ax.hlines(top5_athlete_bronze_men.Athlete, xmin=0, xmax=top5_athlete_bronze_men.Medal)\n",
    "ax.plot(top5_athlete_bronze_men.Medal, top5_athlete_bronze_men.Athlete, \"o\")\n",
    "ax.set_xlim(0, max(top5_athlete_bronze_men.Medal)+2)\n",
    "plt.title('Top 5 Bronze Winners Men',size='20');"
   ]
  },
  {
   "cell_type": "code",
   "execution_count": null,
   "metadata": {},
   "outputs": [],
   "source": [
    "fig, ax = plt.subplots()\n",
    "ax.hlines(top5_athlete_gold_women.Athlete, xmin=0, xmax=top5_athlete_gold_women.Medal)\n",
    "ax.plot(top5_athlete_gold_women.Medal, top5_athlete_gold_women.Athlete, \"o\")\n",
    "ax.set_xlim(0, max(top5_athlete_gold_women.Medal)+2)\n",
    "plt.title('Top 5 Gold Winners Women',size='20');"
   ]
  },
  {
   "cell_type": "code",
   "execution_count": null,
   "metadata": {},
   "outputs": [],
   "source": [
    "fig, ax = plt.subplots()\n",
    "ax.hlines(top5_athlete_silver_women.Athlete, xmin=0, xmax=top5_athlete_silver_women.Medal)\n",
    "ax.plot(top5_athlete_silver_women.Medal, top5_athlete_silver_women.Athlete, \"o\")\n",
    "ax.set_xlim(0, max(top5_athlete_silver_women.Medal)+2)\n",
    "plt.title('Top 5 Silver Winners Women',size='20');"
   ]
  },
  {
   "cell_type": "code",
   "execution_count": null,
   "metadata": {},
   "outputs": [],
   "source": [
    "fig, ax = plt.subplots()\n",
    "ax.hlines(top5_athlete_bronze_women.Athlete, xmin=0, xmax=top5_athlete_bronze_women.Medal)\n",
    "ax.plot(top5_athlete_bronze_women.Medal, top5_athlete_bronze_women.Athlete, \"o\")\n",
    "ax.set_xlim(0, max(top5_athlete_bronze_women.Medal)+2)\n",
    "plt.title('Top 5 Bronze Winners Women',size='20');"
   ]
  },
  {
   "cell_type": "markdown",
   "metadata": {},
   "source": [
    "<a id=6.8></a>\n",
    "### 6.8 Top 5 Disciplines by Gender"
   ]
  },
  {
   "cell_type": "code",
   "execution_count": null,
   "metadata": {},
   "outputs": [],
   "source": [
    "top5_discipline_gold_men = medal_gold_men.groupby('Discipline')['Medal'].count().nlargest(5).reset_index()\n",
    "sns.barplot(x='Medal',y='Discipline',data=top5_discipline_gold_men);\n",
    "plt.title(\"Top 5 Men Gold Disciplines\", size='20');\n"
   ]
  },
  {
   "cell_type": "code",
   "execution_count": null,
   "metadata": {},
   "outputs": [],
   "source": [
    "top5_discipline_silver_men = medal_silver_men.groupby('Discipline')['Medal'].count().nlargest(5).reset_index()\n",
    "sns.barplot(x='Medal',y='Discipline',data=top5_discipline_silver_men);\n",
    "plt.title(\"Top 5 Men Silver Disciplines\", size='20');"
   ]
  },
  {
   "cell_type": "code",
   "execution_count": null,
   "metadata": {},
   "outputs": [],
   "source": [
    "top5_discipline_bronze_men = medal_bronze_men.groupby('Discipline')['Medal'].count().nlargest(5).reset_index()\n",
    "sns.barplot(x='Medal',y='Discipline',data=top5_discipline_bronze_men);\n",
    "plt.title(\"Top 5 Men Bronze Disciplines\", size='20');"
   ]
  },
  {
   "cell_type": "code",
   "execution_count": null,
   "metadata": {},
   "outputs": [],
   "source": [
    "top5_discipline_gold_women = medal_gold_women.groupby('Discipline')['Medal'].count().nlargest(5).reset_index()\n",
    "sns.barplot(x='Medal',y='Discipline',data=top5_discipline_gold_women);\n",
    "plt.title(\"Top 5 Women Gold Disciplines\", size='20');"
   ]
  },
  {
   "cell_type": "code",
   "execution_count": null,
   "metadata": {},
   "outputs": [],
   "source": [
    "top5_discipline_silver_women = medal_silver_women.groupby('Discipline')['Medal'].count().nlargest(5).reset_index()\n",
    "sns.barplot(x='Medal',y='Discipline',data=top5_discipline_silver_women);\n",
    "plt.title(\"Top 5 Women Silver Disciplines\", size='20');"
   ]
  },
  {
   "cell_type": "code",
   "execution_count": null,
   "metadata": {},
   "outputs": [],
   "source": [
    "top5_discipline_bronze_women = medal_bronze_women.groupby('Discipline')['Medal'].count().nlargest(5).reset_index()\n",
    "sns.barplot(x='Medal',y='Discipline',data=top5_discipline_bronze_women);\n",
    "plt.title(\"Top 5 Women Bronze Disciplines\", size='20');"
   ]
  },
  {
   "cell_type": "markdown",
   "metadata": {},
   "source": [
    "<a id=7></a>\n",
    "## 7. Conclusions\n",
    "\n",
    "<br><br><br>\n",
    "- After analyzing the data it is clear that each Medal has almost equal share from the overall medal counts.\n",
    "<br><br>\n",
    "- There are only 4 cities __London__, __Los Angeles__, __Paris__& __Athens__ were hosted the olympic ganmes between 1896 - 2012.\n",
    "<br><br>\n",
    "- __USA__ holds the 1st place with __4585__ medals and __Netherland__ is at 10th position with __851__ medals respectively.\n",
    "<br><br>\n",
    "- For Each Medal __USA__ Holds the 1st  position which is expected and __Soviet Union__ hold the 2nd Position, other postions are occupied by __German__, __Italy__, __Great Britain__ & __France__.\n",
    "<br><br>\n",
    "- Female participants were less than Male Participants in Olympics, action needs to be taken to increase the Fenale atheletes in upcoming games.\n",
    "   - After calculating the counts by each medals we can see Gold is at the 1st position, Bronze at 2nd and Silver is at 3rd place.\n",
    "   <br><br>\n",
    "   - Where is for Female Athelets Bronze holds the 1st place, Silver at 2nd and Gold is at 3rd place.\n",
    "   <br><br>\n",
    "- __Top Atheletes__:\n",
    "  - __Gold__: <br>\n",
    "      __Men__: 4 Athelets were from USA and 1 is from Finland, he is at 3rd Position<br>\n",
    "      __Women__: Soviet Union is at 1st place, 2nd & 5th Plcae were occupied by US womens, 3rd Position is from Czechoslovakia and 4th Place is with East Germany.<br><br>\n",
    "  - __Silver__:<br>\n",
    "      __Men__: Soviet Union Athletes holds fist 4 place and Italy Athlete holds the 5th Position.<br>\n",
    "      __Women__: Athelets from US, Soviet Union, Germany, Australia & Hungary holds top 5 positions respectively.<br><br>\n",
    "  - __Bronze__:<br>\n",
    "      __Men__: Athelets from Russia, Finland, Netherland, Canada & France holds top 5 postions respectively<br>\n",
    "      __Women__: Athelets from Jamaica & Germany Hold top position with 6 Medals and other postions were occupied by Germany, US & Hungary Athelets.<br><br>\n",
    "  \n",
    "- __Top Sport Discipline__:<br>\n",
    "  Below are the sports which seems to be most common sports to won the medals.\n",
    "    - Atheletics\n",
    "    - Swimming\n",
    "    - Rowing\n",
    "    - Artistic G\n",
    "    - Fencing\n",
    "    - Volleyball\n",
    "    - Football"
   ]
  }
 ],
 "metadata": {
  "kernelspec": {
   "display_name": "Python 3",
   "language": "python",
   "name": "python3"
  },
  "language_info": {
   "codemirror_mode": {
    "name": "ipython",
    "version": 3
   },
   "file_extension": ".py",
   "mimetype": "text/x-python",
   "name": "python",
   "nbconvert_exporter": "python",
   "pygments_lexer": "ipython3",
   "version": "3.7.5"
  }
 },
 "nbformat": 4,
 "nbformat_minor": 2
}
